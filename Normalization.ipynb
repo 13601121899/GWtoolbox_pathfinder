{
 "cells": [
  {
   "cell_type": "code",
   "execution_count": 1,
   "metadata": {},
   "outputs": [],
   "source": [
    "import numpy as np, matplotlib.pyplot as plt"
   ]
  },
  {
   "cell_type": "code",
   "execution_count": 2,
   "metadata": {},
   "outputs": [],
   "source": [
    "%matplotlib inline"
   ]
  },
  {
   "cell_type": "code",
   "execution_count": 3,
   "metadata": {},
   "outputs": [],
   "source": [
    "import scipy.integrate as integrate"
   ]
  },
  {
   "cell_type": "code",
   "execution_count": 15,
   "metadata": {},
   "outputs": [],
   "source": [
    "def F(Z):\n",
    "    return integrate.quad(lambda z:1.0/np.sqrt(z**3+1),0,Z)[0]"
   ]
  },
  {
   "cell_type": "code",
   "execution_count": 23,
   "metadata": {},
   "outputs": [],
   "source": [
    "OmegaL=0.683;\n",
    "OmegaM=1.0-0.683;\n",
    "h=0.7 # reduced Hubble constant\n",
    "A=(OmegaL/OmegaM)**0.3333\n",
    "DH=3001.0/h # Mpc"
   ]
  },
  {
   "cell_type": "code",
   "execution_count": 16,
   "metadata": {},
   "outputs": [],
   "source": [
    "def DM(Z):\n",
    "    return A*DH/np.sqrt(OmegaL)*(F((Z+1)/A)-F(1.0/A))"
   ]
  },
  {
   "cell_type": "code",
   "execution_count": 20,
   "metadata": {},
   "outputs": [],
   "source": [
    "# def DA(Z):\n",
    "#     return DM(Z)/(Z+1)"
   ]
  },
  {
   "cell_type": "code",
   "execution_count": 21,
   "metadata": {},
   "outputs": [],
   "source": [
    "def EZ(z):\n",
    "    return np.sqrt(OmegaM*(1+z)**3+OmegaL)"
   ]
  },
  {
   "cell_type": "code",
   "execution_count": 43,
   "metadata": {},
   "outputs": [
    {
     "data": {
      "text/plain": [
       "0.9313335996466094"
      ]
     },
     "execution_count": 43,
     "metadata": {},
     "output_type": "execute_result"
    }
   ],
   "source": [
    "zhigh=100.0\n",
    "integrate.quad(lambda z:DM(z)**2/(1+z)/EZ(z),0,zhigh)[0]/DH**2"
   ]
  },
  {
   "cell_type": "code",
   "execution_count": 46,
   "metadata": {},
   "outputs": [],
   "source": [
    "def pp(z):\n",
    "    return (A/np.sqrt(OmegaL)*(F((z+1)/A)-F(1.0/A)))**2/(EZ(z)*(1+z))"
   ]
  },
  {
   "cell_type": "code",
   "execution_count": 92,
   "metadata": {
    "scrolled": true
   },
   "outputs": [
    {
     "data": {
      "text/plain": [
       "[<matplotlib.lines.Line2D at 0x15200b3358>]"
      ]
     },
     "execution_count": 92,
     "metadata": {},
     "output_type": "execute_result"
    },
    {
     "data": {
      "image/png": "[encoded data removed]",
      "text/plain": [
       "<Figure size 432x288 with 1 Axes>"
      ]
     },
     "metadata": {
      "needs_background": "light"
     },
     "output_type": "display_data"
    }
   ],
   "source": [
    "# X=np.linspace(0,100,10000)\n",
    "# PP=[pp(x) for x in X]\n",
    "# plt.plot(X,PP)"
   ]
  },
  {
   "cell_type": "markdown",
   "metadata": {},
   "source": [
    "The above $z$ distribution suggest that the most likely event are from $z\\sim2$."
   ]
  },
  {
   "cell_type": "code",
   "execution_count": 50,
   "metadata": {},
   "outputs": [],
   "source": [
    "upper=max(PP)"
   ]
  },
  {
   "cell_type": "code",
   "execution_count": 51,
   "metadata": {},
   "outputs": [],
   "source": [
    "from scipy import *"
   ]
  },
  {
   "cell_type": "code",
   "execution_count": 64,
   "metadata": {},
   "outputs": [],
   "source": [
    "N=10000"
   ]
  },
  {
   "cell_type": "code",
   "execution_count": 93,
   "metadata": {},
   "outputs": [],
   "source": [
    "zwhole=np.random.uniform(0,zhigh,N)\n",
    "ywhole=np.random.uniform(0,upper,N)\n",
    "pwhole=np.interp(zwhole,X,PP)\n",
    "mask=(ywhole<pwhole)"
   ]
  },
  {
   "cell_type": "code",
   "execution_count": 99,
   "metadata": {},
   "outputs": [],
   "source": [
    "index=np.where(mask==True)[0]"
   ]
  },
  {
   "cell_type": "code",
   "execution_count": 100,
   "metadata": {},
   "outputs": [],
   "source": [
    "Nnew=round(N/(len(index))*N)"
   ]
  },
  {
   "cell_type": "code",
   "execution_count": 103,
   "metadata": {},
   "outputs": [],
   "source": [
    "zwhole=np.random.uniform(0,zhigh,Nnew)\n",
    "ywhole=np.random.uniform(0,upper,Nnew)\n",
    "pwhole=np.interp(zwhole,X,PP)\n",
    "mask=(ywhole<pwhole)\n",
    "index=np.where(mask==True)[0]\n",
    "len(index)\n",
    "zsampled=zwhole[index]"
   ]
  },
  {
   "cell_type": "code",
   "execution_count": 105,
   "metadata": {},
   "outputs": [],
   "source": []
  },
  {
   "cell_type": "code",
   "execution_count": 109,
   "metadata": {
    "scrolled": true
   },
   "outputs": [
    {
     "data": {
      "text/plain": [
       "(array([0.12155998, 0.03956443, 0.01509102, 0.00752818, 0.00434956,\n",
       "        0.00288155, 0.00215374, 0.00148534, 0.00108925, 0.00087882,\n",
       "        0.00076   , 0.00057681, 0.00041589, 0.00034658, 0.00029954,\n",
       "        0.00028221, 0.00028717, 0.00021042, 0.00015101, 0.00017081]),\n",
       " array([2.10058107e-02, 5.01894876e+00, 1.00168917e+01, 1.50148346e+01,\n",
       "        2.00127776e+01, 2.50107205e+01, 3.00086635e+01, 3.50066064e+01,\n",
       "        4.00045494e+01, 4.50024923e+01, 5.00004353e+01, 5.49983782e+01,\n",
       "        5.99963211e+01, 6.49942641e+01, 6.99922070e+01, 7.49901500e+01,\n",
       "        7.99880929e+01, 8.49860359e+01, 8.99839788e+01, 9.49819218e+01,\n",
       "        9.99798647e+01]),\n",
       " <a list of 20 Patch objects>)"
      ]
     },
     "execution_count": 109,
     "metadata": {},
     "output_type": "execute_result"
    },
    {
     "data": {
      "image/png": "[encoded data removed]",
      "text/plain": [
       "<Figure size 432x288 with 1 Axes>"
      ]
     },
     "metadata": {
      "needs_background": "light"
     },
     "output_type": "display_data"
    }
   ],
   "source": [
    "# plt.hist(zsampled,bins=20,density=True)"
   ]
  },
  {
   "cell_type": "markdown",
   "metadata": {},
   "source": [
    "The sampling in $z$ is done"
   ]
  },
  {
   "cell_type": "code",
   "execution_count": 110,
   "metadata": {},
   "outputs": [],
   "source": [
    "NM=len(index) # it is the number of sampled points\n",
    "Msampled=np.random.normal(loc=1.5,scale=0.5,size=NM) # gaussian distribution with mean mass 1.5 solar mass, varsqrt=0.5 solar mass\n",
    "cthsampled=np.random.uniform(0,1,size=NM)\n",
    "phisampled=np.random.uniform(0,6.283,size=NM)\n",
    "cosisampled=np.random.uniform(0,1,size=NM)\n",
    "psi=np.random.uniform(0,3.14159,size=NM)"
   ]
  },
  {
   "cell_type": "code",
   "execution_count": 111,
   "metadata": {},
   "outputs": [],
   "source": [
    "thetasampled=np.arccos(cthsampled)\n",
    "isampled=np.arccos(cosisampled)"
   ]
  },
  {
   "cell_type": "code",
   "execution_count": null,
   "metadata": {},
   "outputs": [],
   "source": []
  }
 ],
 "metadata": {
  "kernelspec": {
   "display_name": "Python 3",
   "language": "python",
   "name": "python3"
  },
  "language_info": {
   "codemirror_mode": {
    "name": "ipython",
    "version": 3
   },
   "file_extension": ".py",
   "mimetype": "text/x-python",
   "name": "python",
   "nbconvert_exporter": "python",
   "pygments_lexer": "ipython3",
   "version": "3.7.0"
  }
 },
 "nbformat": 4,
 "nbformat_minor": 2
}
