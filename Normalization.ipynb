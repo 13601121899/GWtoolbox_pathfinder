{
 "cells": [
  {
   "cell_type": "code",
   "execution_count": 2,
   "metadata": {},
   "outputs": [],
   "source": [
    "import numpy as np, matplotlib.pyplot as plt"
   ]
  },
  {
   "cell_type": "code",
   "execution_count": 3,
   "metadata": {},
   "outputs": [],
   "source": [
    "%matplotlib inline"
   ]
  },
  {
   "cell_type": "code",
   "execution_count": 4,
   "metadata": {},
   "outputs": [],
   "source": [
    "import scipy.integrate as integrate"
   ]
  },
  {
   "cell_type": "code",
   "execution_count": 5,
   "metadata": {},
   "outputs": [],
   "source": [
    "def F(Z):\n",
    "    return integrate.quad(lambda z:1.0/np.sqrt(z**3+1),0,Z)[0]"
   ]
  },
  {
   "cell_type": "code",
   "execution_count": 6,
   "metadata": {},
   "outputs": [],
   "source": [
    "OmegaL=0.683;\n",
    "OmegaM=1.0-OmegaL;\n",
    "h=0.7 # reduced Hubble constant\n",
    "A=(OmegaL/OmegaM)**0.3333\n",
    "DH=3001.0/h # Mpc"
   ]
  },
  {
   "cell_type": "code",
   "execution_count": 41,
   "metadata": {},
   "outputs": [],
   "source": [
    "def DM(Z):\n",
    "    return A*DH/np.sqrt(OmegaL)*(F((Z+1)/A)-F(1.0/A)) \n",
    "    # result is in Mpc\n",
    "def Dl(z): #luminous distance\n",
    "    return (1+z)*DM(z)\n",
    "    # result is in Mpc"
   ]
  },
  {
   "cell_type": "code",
   "execution_count": 8,
   "metadata": {},
   "outputs": [],
   "source": [
    "# def DA(Z):\n",
    "#     return DM(Z)/(Z+1)"
   ]
  },
  {
   "cell_type": "code",
   "execution_count": 9,
   "metadata": {},
   "outputs": [],
   "source": [
    "def EZ(z):\n",
    "    return np.sqrt(OmegaM*(1+z)**3+OmegaL)"
   ]
  },
  {
   "cell_type": "code",
   "execution_count": 10,
   "metadata": {},
   "outputs": [
    {
     "data": {
      "text/plain": [
       "0.9313335996466094"
      ]
     },
     "execution_count": 10,
     "metadata": {},
     "output_type": "execute_result"
    }
   ],
   "source": [
    "zhigh=100.0\n",
    "integrate.quad(lambda z:DM(z)**2/(1+z)/EZ(z),0,zhigh)[0]/DH**2"
   ]
  },
  {
   "cell_type": "code",
   "execution_count": 11,
   "metadata": {},
   "outputs": [],
   "source": [
    "def pp(z):\n",
    "    return (A/np.sqrt(OmegaL)*(F((z+1)/A)-F(1.0/A)))**2/(EZ(z)*(1+z))"
   ]
  },
  {
   "cell_type": "code",
   "execution_count": 12,
   "metadata": {
    "scrolled": true
   },
   "outputs": [
    {
     "data": {
      "text/plain": [
       "[<matplotlib.lines.Line2D at 0x151afeb240>]"
      ]
     },
     "execution_count": 12,
     "metadata": {},
     "output_type": "execute_result"
    },
    {
     "data": {
      "image/png": "[encoded data removed]",
      "text/plain": [
       "<Figure size 432x288 with 1 Axes>"
      ]
     },
     "metadata": {
      "needs_background": "light"
     },
     "output_type": "display_data"
    }
   ],
   "source": [
    "X=np.linspace(0,100,10000)\n",
    "PP=[pp(x) for x in X]\n",
    "plt.plot(X,PP)"
   ]
  },
  {
   "cell_type": "markdown",
   "metadata": {},
   "source": [
    "The above $z$ distribution suggest that the most likely event are from $z\\sim2$."
   ]
  },
  {
   "cell_type": "code",
   "execution_count": 13,
   "metadata": {},
   "outputs": [],
   "source": [
    "upper=max(PP)"
   ]
  },
  {
   "cell_type": "code",
   "execution_count": 14,
   "metadata": {},
   "outputs": [],
   "source": [
    "#from scipy import *"
   ]
  },
  {
   "cell_type": "code",
   "execution_count": 15,
   "metadata": {},
   "outputs": [],
   "source": [
    "N=10000"
   ]
  },
  {
   "cell_type": "code",
   "execution_count": 16,
   "metadata": {},
   "outputs": [],
   "source": [
    "zwhole=np.random.uniform(0,zhigh,N)\n",
    "ywhole=np.random.uniform(0,upper,N)\n",
    "pwhole=np.interp(zwhole,X,PP)\n",
    "mask=(ywhole<pwhole)"
   ]
  },
  {
   "cell_type": "code",
   "execution_count": 17,
   "metadata": {},
   "outputs": [],
   "source": [
    "index=np.where(mask==True)[0]"
   ]
  },
  {
   "cell_type": "code",
   "execution_count": 18,
   "metadata": {},
   "outputs": [
    {
     "data": {
      "text/plain": [
       "552"
      ]
     },
     "execution_count": 18,
     "metadata": {},
     "output_type": "execute_result"
    }
   ],
   "source": [
    "len(index)"
   ]
  },
  {
   "cell_type": "code",
   "execution_count": 19,
   "metadata": {},
   "outputs": [],
   "source": [
    "Nnew=round(N/(len(index))*N)"
   ]
  },
  {
   "cell_type": "code",
   "execution_count": 20,
   "metadata": {},
   "outputs": [
    {
     "name": "stdout",
     "output_type": "stream",
     "text": [
      "181159\n"
     ]
    }
   ],
   "source": [
    "print(Nnew)"
   ]
  },
  {
   "cell_type": "code",
   "execution_count": 21,
   "metadata": {},
   "outputs": [],
   "source": [
    "zwhole=np.random.uniform(0,zhigh,Nnew)\n",
    "ywhole=np.random.uniform(0,upper,Nnew)\n",
    "pwhole=np.interp(zwhole,X,PP)\n",
    "mask=(ywhole<pwhole)\n",
    "index=np.where(mask==True)[0]\n",
    "len(index)\n",
    "zsampled=zwhole[index]"
   ]
  },
  {
   "cell_type": "code",
   "execution_count": null,
   "metadata": {},
   "outputs": [],
   "source": []
  },
  {
   "cell_type": "code",
   "execution_count": 22,
   "metadata": {
    "scrolled": true
   },
   "outputs": [],
   "source": [
    "# plt.hist(zsampled,bins=20,density=True)"
   ]
  },
  {
   "cell_type": "markdown",
   "metadata": {},
   "source": [
    "The sampling in $z$ is done"
   ]
  },
  {
   "cell_type": "code",
   "execution_count": 130,
   "metadata": {},
   "outputs": [],
   "source": [
    "NM=len(index) # it is the number of sampled points\n",
    "Msampled=np.random.normal(loc=1.5,scale=0.3,size=NM) # gaussian distribution with mean mass 1.5 solar mass, varsqrt=0.5 solar mass\n",
    "cthsampled=np.random.uniform(1e-5,1,size=NM)\n",
    "phisampled=np.random.uniform(0,6.283,size=NM)\n",
    "cosisampled=np.random.uniform(1e-5,1,size=NM)\n",
    "psisampled=np.random.uniform(0,3.14159,size=NM)"
   ]
  },
  {
   "cell_type": "code",
   "execution_count": 89,
   "metadata": {},
   "outputs": [
    {
     "name": "stdout",
     "output_type": "stream",
     "text": [
      "10033\n"
     ]
    }
   ],
   "source": [
    "#thetasampled=np.arccos(cthsampled)\n",
    "#isampled=np.arccos(cosisampled)\n",
    "print(NM)"
   ]
  },
  {
   "cell_type": "code",
   "execution_count": 81,
   "metadata": {},
   "outputs": [],
   "source": [
    "M0=1.31 #solar mass\n",
    "D0=1 #Mpc\n",
    "rho0=5.1e4\n",
    "#rhocri=1e5\n",
    "def F1(cth,phi,psi):\n",
    "    plus=-0.433*((1.0+cth**2)*np.sin(2.0*phi)*np.cos(2.0*psi)+2.0*cth*np.cos(2.0*phi)*np.sin(2.0*psi))\n",
    "    cross=0.433*((1.0+cth**2)*np.sin(2.0*phi)*np.sin(2.0*psi)-2.0*cth*np.cos(2.0*phi)*np.cos(2.0*psi))\n",
    "    return [plus,cross]\n",
    "def rho(M,D,cth,phi,ci,psi):\n",
    "    Deff=D/np.sqrt((0.5*(1.0+ci**2))**2*F1(cth,phi,psi)[0]**2+ci**2*F1(cth,phi,psi)[1]**2)\n",
    "    #result=M/M0*D0/D*np.sqrt((1+ci**2)**2*F1(cth,phi,psi)[0]**2+4.*ci**2*F1(cth,phi,psi)[1]**2)*rho0\n",
    "    result=(M/M0)**0.8333*(D0/Deff)*rho0\n",
    "    return result\n",
    "def f(M,D,cth,phi,ci,psi,rhocri):\n",
    "    rhothis=rho(M,D,cth,phi,ci,psi)\n",
    "    if rhothis>=rhocri:\n",
    "        result=1.\n",
    "    else:\n",
    "        result=0.\n",
    "    return result        "
   ]
  },
  {
   "cell_type": "code",
   "execution_count": 134,
   "metadata": {},
   "outputs": [
    {
     "data": {
      "text/plain": [
       "44166.00000000001"
      ]
     },
     "execution_count": 134,
     "metadata": {},
     "output_type": "execute_result"
    }
   ],
   "source": [
    "rho(1.31,1,1,0,1,0)\n",
    "#f(1.31,D0,1,0,1,0,10)"
   ]
  },
  {
   "cell_type": "code",
   "execution_count": 135,
   "metadata": {},
   "outputs": [
    {
     "name": "stdout",
     "output_type": "stream",
     "text": [
      "The fraction is 0.002691\n"
     ]
    }
   ],
   "source": [
    "rhocri=10.\n",
    "summ=0.\n",
    "for i in range(0,NM):\n",
    "    D=Dl(zsampled[i]) # output is Mpc\n",
    "    add=f(np.abs(Msampled[i]),D,cthsampled[i],phisampled[i],cosisampled[i],psisampled[i],rhocri)\n",
    "    summ=summ+add\n",
    "    #print(add,Msampled[i],D,cthsampled[i],phisampled[i],cosisampled[i],psisampled[i])\n",
    "average=summ/(NM*1.0)\n",
    "print(\"The fraction is %f\" % average)"
   ]
  },
  {
   "cell_type": "code",
   "execution_count": 69,
   "metadata": {},
   "outputs": [],
   "source": [
    "def Percent(cri):\n",
    "    summ=0\n",
    "    for i in range(0,NM):\n",
    "        D=Dl(zsampled[i])\n",
    "        summ=summ+f(Msampled[i],D,cthsampled[i],phisampled[i],cosisampled[i],psisampled[i],cri)\n",
    "    average=summ/NM\n",
    "    return average"
   ]
  },
  {
   "cell_type": "code",
   "execution_count": 72,
   "metadata": {},
   "outputs": [
    {
     "name": "stderr",
     "output_type": "stream",
     "text": [
      "/Users/shuxu/anaconda3/lib/python3.7/site-packages/ipykernel_launcher.py:12: RuntimeWarning: invalid value encountered in double_scalars\n",
      "  if sys.path[0] == '':\n"
     ]
    },
    {
     "data": {
      "text/plain": [
       "[<matplotlib.lines.Line2D at 0x151b988470>]"
      ]
     },
     "execution_count": 72,
     "metadata": {},
     "output_type": "execute_result"
    },
    {
     "data": {
      "image/png": "[encoded data removed]",
      "text/plain": [
       "<Figure size 432x288 with 1 Axes>"
      ]
     },
     "metadata": {
      "needs_background": "light"
     },
     "output_type": "display_data"
    }
   ],
   "source": [
    "CRI=np.logspace(0,2,num=10)\n",
    "AVE=[Percent(c) for c in CRI]\n",
    "plt.xscale('log')\n",
    "plt.plot(CRI,AVE)"
   ]
  },
  {
   "cell_type": "code",
   "execution_count": 143,
   "metadata": {},
   "outputs": [
    {
     "data": {
      "image/png": "[encoded data removed]",
      "text/plain": [
       "<Figure size 432x288 with 1 Axes>"
      ]
     },
     "metadata": {
      "needs_background": "light"
     },
     "output_type": "display_data"
    }
   ],
   "source": [
    "CRI=np.logspace(-1,2,num=50)\n",
    "OL=[0.683,0.5,0.3]\n",
    "plt.xscale('log')\n",
    "plt.yscale('log')\n",
    "plt.xlabel(r'$\\rho_\\star$',fontsize=15)\n",
    "plt.ylabel('Number detected (per year)')\n",
    "for OmegaL in OL:\n",
    "    OmegaM=1.-OmegaL\n",
    "    AVE=[Percent(c)*10.89e5 for c in CRI]    \n",
    "    plt.plot(CRI,AVE,label=str('$\\Omega_\\lambda=%1.3f$' % OmegaL))\n",
    "plt.legend(frameon=False)\n",
    "plt.savefig('NvsR.eps')"
   ]
  },
  {
   "cell_type": "code",
   "execution_count": null,
   "metadata": {},
   "outputs": [],
   "source": []
  }
 ],
 "metadata": {
  "kernelspec": {
   "display_name": "Python 3",
   "language": "python",
   "name": "python3"
  },
  "language_info": {
   "codemirror_mode": {
    "name": "ipython",
    "version": 3
   },
   "file_extension": ".py",
   "mimetype": "text/x-python",
   "name": "python",
   "nbconvert_exporter": "python",
   "pygments_lexer": "ipython3",
   "version": "3.7.0"
  }
 },
 "nbformat": 4,
 "nbformat_minor": 2
}
