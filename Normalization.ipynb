{
 "cells": [
  {
   "cell_type": "code",
   "execution_count": 21,
   "metadata": {
    "collapsed": true
   },
   "outputs": [],
   "source": [
    "import numpy as np, matplotlib.pyplot as plt"
   ]
  },
  {
   "cell_type": "code",
   "execution_count": 22,
   "metadata": {
    "collapsed": true
   },
   "outputs": [],
   "source": [
    "%matplotlib inline"
   ]
  },
  {
   "cell_type": "code",
   "execution_count": 23,
   "metadata": {
    "collapsed": true
   },
   "outputs": [],
   "source": [
    "import scipy.integrate as integrate"
   ]
  },
  {
   "cell_type": "code",
   "execution_count": 24,
   "metadata": {
    "collapsed": true
   },
   "outputs": [],
   "source": [
    "def F(Z):\n",
    "    return integrate.quad(lambda z:1.0/np.sqrt(z**3+1),0,Z)[0]"
   ]
  },
  {
   "cell_type": "code",
   "execution_count": 25,
   "metadata": {
    "collapsed": true
   },
   "outputs": [],
   "source": [
    "OmegaL=0.683;\n",
    "OmegaM=1.0-0.683;\n",
    "h=0.7 # reduced Hubble constant\n",
    "A=(OmegaL/OmegaM)**0.3333\n",
    "DH=3001.0/h # Mpc"
   ]
  },
  {
   "cell_type": "code",
   "execution_count": 26,
   "metadata": {
    "collapsed": true
   },
   "outputs": [],
   "source": [
    "def DM(Z):\n",
    "    return A*DH/np.sqrt(OmegaL)*(F((Z+1)/A)-F(1.0/A))\n",
    "def Dl(z): #luminous distance\n",
    "    return (1+z)*DM(z)"
   ]
  },
  {
   "cell_type": "code",
   "execution_count": 20,
   "metadata": {
    "collapsed": true
   },
   "outputs": [],
   "source": [
    "# def DA(Z):\n",
    "#     return DM(Z)/(Z+1)"
   ]
  },
  {
   "cell_type": "code",
   "execution_count": 27,
   "metadata": {
    "collapsed": true
   },
   "outputs": [],
   "source": [
    "def EZ(z):\n",
    "    return np.sqrt(OmegaM*(1+z)**3+OmegaL)"
   ]
  },
  {
   "cell_type": "code",
   "execution_count": 28,
   "metadata": {
    "collapsed": false
   },
   "outputs": [
    {
     "data": {
      "text/plain": [
       "0.9313335996466094"
      ]
     },
     "execution_count": 28,
     "metadata": {},
     "output_type": "execute_result"
    }
   ],
   "source": [
    "zhigh=100.0\n",
    "integrate.quad(lambda z:DM(z)**2/(1+z)/EZ(z),0,zhigh)[0]/DH**2"
   ]
  },
  {
   "cell_type": "code",
   "execution_count": 29,
   "metadata": {
    "collapsed": true
   },
   "outputs": [],
   "source": [
    "def pp(z):\n",
    "    return (A/np.sqrt(OmegaL)*(F((z+1)/A)-F(1.0/A)))**2/(EZ(z)*(1+z))"
   ]
  },
  {
   "cell_type": "code",
   "execution_count": 41,
   "metadata": {
    "collapsed": false,
    "scrolled": true
   },
   "outputs": [
    {
     "data": {
      "text/plain": [
       "[<matplotlib.lines.Line2D at 0x11092a780>]"
      ]
     },
     "execution_count": 41,
     "metadata": {},
     "output_type": "execute_result"
    },
    {
     "data": {
      "image/png": "[encoded data removed]",
      "text/plain": [
       "<Figure size 432x288 with 1 Axes>"
      ]
     },
     "metadata": {},
     "output_type": "display_data"
    }
   ],
   "source": [
    "X=np.linspace(0,100,10000)\n",
    "PP=[pp(x) for x in X]\n",
    "plt.plot(X,PP)"
   ]
  },
  {
   "cell_type": "markdown",
   "metadata": {},
   "source": [
    "The above $z$ distribution suggest that the most likely event are from $z\\sim2$."
   ]
  },
  {
   "cell_type": "code",
   "execution_count": 34,
   "metadata": {
    "collapsed": false
   },
   "outputs": [],
   "source": [
    "upper=max(PP)"
   ]
  },
  {
   "cell_type": "code",
   "execution_count": 51,
   "metadata": {
    "collapsed": true
   },
   "outputs": [],
   "source": [
    "#from scipy import *"
   ]
  },
  {
   "cell_type": "code",
   "execution_count": 31,
   "metadata": {
    "collapsed": true
   },
   "outputs": [],
   "source": [
    "N=10000"
   ]
  },
  {
   "cell_type": "code",
   "execution_count": 35,
   "metadata": {
    "collapsed": false
   },
   "outputs": [],
   "source": [
    "zwhole=np.random.uniform(0,zhigh,N)\n",
    "ywhole=np.random.uniform(0,upper,N)\n",
    "pwhole=np.interp(zwhole,X,PP)\n",
    "mask=(ywhole<pwhole)"
   ]
  },
  {
   "cell_type": "code",
   "execution_count": 37,
   "metadata": {
    "collapsed": true
   },
   "outputs": [],
   "source": [
    "index=np.where(mask==True)[0]"
   ]
  },
  {
   "cell_type": "code",
   "execution_count": 40,
   "metadata": {
    "collapsed": false
   },
   "outputs": [
    {
     "data": {
      "text/plain": [
       "543"
      ]
     },
     "execution_count": 40,
     "metadata": {},
     "output_type": "execute_result"
    }
   ],
   "source": [
    "len(index)"
   ]
  },
  {
   "cell_type": "code",
   "execution_count": 38,
   "metadata": {
    "collapsed": false
   },
   "outputs": [],
   "source": [
    "Nnew=round(N/(len(index))*N)"
   ]
  },
  {
   "cell_type": "code",
   "execution_count": 39,
   "metadata": {
    "collapsed": false
   },
   "outputs": [
    {
     "name": "stdout",
     "output_type": "stream",
     "text": [
      "184162\n"
     ]
    }
   ],
   "source": [
    "print(Nnew)"
   ]
  },
  {
   "cell_type": "code",
   "execution_count": 42,
   "metadata": {
    "collapsed": true
   },
   "outputs": [],
   "source": [
    "zwhole=np.random.uniform(0,zhigh,Nnew)\n",
    "ywhole=np.random.uniform(0,upper,Nnew)\n",
    "pwhole=np.interp(zwhole,X,PP)\n",
    "mask=(ywhole<pwhole)\n",
    "index=np.where(mask==True)[0]\n",
    "len(index)\n",
    "zsampled=zwhole[index]"
   ]
  },
  {
   "cell_type": "code",
   "execution_count": 105,
   "metadata": {
    "collapsed": true
   },
   "outputs": [],
   "source": []
  },
  {
   "cell_type": "code",
   "execution_count": 109,
   "metadata": {
    "collapsed": false,
    "scrolled": true
   },
   "outputs": [
    {
     "data": {
      "text/plain": [
       "(array([0.12155998, 0.03956443, 0.01509102, 0.00752818, 0.00434956,\n",
       "        0.00288155, 0.00215374, 0.00148534, 0.00108925, 0.00087882,\n",
       "        0.00076   , 0.00057681, 0.00041589, 0.00034658, 0.00029954,\n",
       "        0.00028221, 0.00028717, 0.00021042, 0.00015101, 0.00017081]),\n",
       " array([2.10058107e-02, 5.01894876e+00, 1.00168917e+01, 1.50148346e+01,\n",
       "        2.00127776e+01, 2.50107205e+01, 3.00086635e+01, 3.50066064e+01,\n",
       "        4.00045494e+01, 4.50024923e+01, 5.00004353e+01, 5.49983782e+01,\n",
       "        5.99963211e+01, 6.49942641e+01, 6.99922070e+01, 7.49901500e+01,\n",
       "        7.99880929e+01, 8.49860359e+01, 8.99839788e+01, 9.49819218e+01,\n",
       "        9.99798647e+01]),\n",
       " <a list of 20 Patch objects>)"
      ]
     },
     "execution_count": 109,
     "metadata": {},
     "output_type": "execute_result"
    },
    {
     "data": {
      "image/png": "[encoded data removed]",
      "text/plain": [
       "<Figure size 432x288 with 1 Axes>"
      ]
     },
     "metadata": {
      "needs_background": "light"
     },
     "output_type": "display_data"
    }
   ],
   "source": [
    "# plt.hist(zsampled,bins=20,density=True)"
   ]
  },
  {
   "cell_type": "markdown",
   "metadata": {},
   "source": [
    "The sampling in $z$ is done"
   ]
  },
  {
   "cell_type": "code",
   "execution_count": 43,
   "metadata": {
    "collapsed": true
   },
   "outputs": [],
   "source": [
    "NM=len(index) # it is the number of sampled points\n",
    "Msampled=np.random.normal(loc=1.5,scale=0.5,size=NM) # gaussian distribution with mean mass 1.5 solar mass, varsqrt=0.5 solar mass\n",
    "cthsampled=np.random.uniform(0,1,size=NM)\n",
    "phisampled=np.random.uniform(0,6.283,size=NM)\n",
    "cosisampled=np.random.uniform(0,1,size=NM)\n",
    "psisampled=np.random.uniform(0,3.14159,size=NM)"
   ]
  },
  {
   "cell_type": "code",
   "execution_count": 111,
   "metadata": {
    "collapsed": true
   },
   "outputs": [],
   "source": [
    "#thetasampled=np.arccos(cthsampled)\n",
    "#isampled=np.arccos(cosisampled)"
   ]
  },
  {
   "cell_type": "code",
   "execution_count": 48,
   "metadata": {
    "collapsed": true
   },
   "outputs": [],
   "source": [
    "M0=1.31 #solar mass\n",
    "D0=1e3 #Kpc\n",
    "rho0=5.5e7\n",
    "rhocri=1e5\n",
    "def F1(cth,phi,psi):\n",
    "    plus=-0.433*((1.0+cth**2)*np.sin(2.0*phi)*np.cos(2.0*psi)+2.0*cth*np.cos(2.0*phi)*np.sin(2.0*psi))\n",
    "    cross=0.433*((1.0+cth**2)*np.sin(2.0*phi)*np.sin(2.0*psi)-2.0*cth*np.cos(2.0*phi)*np.cos(2.0*psi))\n",
    "    return [plus,cross]\n",
    "def rho(M,D,cth,phi,ci,psi):\n",
    "    result=M/M0*D0/D*np.sqrt((1+ci**2)**2*F1(cth,phi,psi)[0]**2+4.*ci**2*F1(cth,phi,psi)[1]**2)*rho0\n",
    "    return result\n",
    "def f(M,D,cth,phi,ci,psi):\n",
    "    rhothis=rho(M,D,cth,phi,ci,psi)\n",
    "    if rhothis>=rhocri:\n",
    "        result=1.\n",
    "    else:\n",
    "        result=0.\n",
    "    return result        "
   ]
  },
  {
   "cell_type": "code",
   "execution_count": null,
   "metadata": {
    "collapsed": true
   },
   "outputs": [],
   "source": []
  },
  {
   "cell_type": "code",
   "execution_count": 49,
   "metadata": {
    "collapsed": false
   },
   "outputs": [
    {
     "name": "stdout",
     "output_type": "stream",
     "text": [
      "0.9149237142568455\n"
     ]
    }
   ],
   "source": [
    "summ=0\n",
    "for i in range(0,NM):\n",
    "    D=Dl(zsampled[i])\n",
    "    summ=summ+f(Msampled[i],D,cthsampled[i],phisampled[i],cosisampled[i],psisampled[i])\n",
    "average=summ/NM\n",
    "print(average)"
   ]
  },
  {
   "cell_type": "code",
   "execution_count": 47,
   "metadata": {
    "collapsed": false
   },
   "outputs": [
    {
     "name": "stdout",
     "output_type": "stream",
     "text": [
      "0.9988885520864909\n"
     ]
    }
   ],
   "source": []
  },
  {
   "cell_type": "code",
   "execution_count": 12,
   "metadata": {
    "collapsed": false
   },
   "outputs": [
    {
     "data": {
      "text/plain": [
       "1.732"
      ]
     },
     "execution_count": 12,
     "metadata": {},
     "output_type": "execute_result"
    }
   ],
   "source": []
  },
  {
   "cell_type": "code",
   "execution_count": null,
   "metadata": {
    "collapsed": true
   },
   "outputs": [],
   "source": []
  }
 ],
 "metadata": {
  "kernelspec": {
   "display_name": "Python 3",
   "language": "python",
   "name": "python3"
  },
  "language_info": {
   "codemirror_mode": {
    "name": "ipython",
    "version": 3
   },
   "file_extension": ".py",
   "mimetype": "text/x-python",
   "name": "python",
   "nbconvert_exporter": "python",
   "pygments_lexer": "ipython3",
   "version": "3.6.2"
  }
 },
 "nbformat": 4,
 "nbformat_minor": 2
}
