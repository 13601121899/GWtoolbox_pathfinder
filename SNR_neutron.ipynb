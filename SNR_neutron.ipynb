{
 "cells": [
  {
   "cell_type": "code",
   "execution_count": 1,
   "metadata": {
    "collapsed": false
   },
   "outputs": [
    {
     "data": {
      "text/plain": [
       "[<matplotlib.lines.Line2D at 0x108989e10>]"
      ]
     },
     "execution_count": 1,
     "metadata": {},
     "output_type": "execute_result"
    },
    {
     "data": {
      "image/png": "[encoded data removed]",
      "text/plain": [
       "<Figure size 432x288 with 1 Axes>"
      ]
     },
     "metadata": {},
     "output_type": "display_data"
    }
   ],
   "source": [
    "import numpy as np, matplotlib.pyplot as plt, scipy.integrate as INT\n",
    "%matplotlib inline\n",
    "Noise_ET=np.loadtxt('ET_D_data.txt')\n",
    "freq=Noise_ET[:,0]\n",
    "noise1=Noise_ET[:,1]\n",
    "noise2=Noise_ET[:,2]\n",
    "noise3=Noise_ET[:,3]\n",
    "plt.yscale('log')\n",
    "plt.xscale('log')\n",
    "plt.plot(freq,noise1,'k-')#,freq,noise2,'r-',freq,noise3,'b-')"
   ]
  },
  {
   "cell_type": "code",
   "execution_count": 2,
   "metadata": {
    "collapsed": true
   },
   "outputs": [],
   "source": [
    "def Sn(f):\n",
    "    return np.interp(f,freq,noise1**2)"
   ]
  },
  {
   "cell_type": "code",
   "execution_count": 3,
   "metadata": {
    "collapsed": true
   },
   "outputs": [],
   "source": [
    "import scipy as sci"
   ]
  },
  {
   "cell_type": "code",
   "execution_count": 4,
   "metadata": {
    "collapsed": true
   },
   "outputs": [],
   "source": [
    "######## A table#################\n",
    "y101=0.6437\n",
    "y102=0.1469\n",
    "y103=-0.4098\n",
    "y104=-0.1331\n",
    "###############################################\n",
    "y111=0.827\n",
    "y112=-0.1228\n",
    "y113=-0.03523\n",
    "y114=-0.08172\n",
    "###############################################\n",
    "y121=-0.2706\n",
    "y122=-0.02609\n",
    "y123=0.1008\n",
    "y124=0.1451\n",
    "###############################################\n",
    "y201=-0.05822\n",
    "y202=-0.0249\n",
    "y203=1.829\n",
    "y204=-0.2714\n",
    "###############################################\n",
    "y211=-3.935\n",
    "y212=0.1701\n",
    "y213=-0.02017\n",
    "y214=0.1279\n",
    "###############################################\n",
    "y301=-7.092\n",
    "y302=2.325\n",
    "y303=-2.87\n",
    "y304=4.922\n",
    "\n",
    "x102=-920.9\n",
    "x112=492.1\n",
    "x122=135\n",
    "x202=6742\n",
    "x212=-1053\n",
    "x302=-1.34e4\n",
    "###########################\n",
    "x103=1.702e4\n",
    "x113=-9566\n",
    "x123=-2182\n",
    "x203=-1.214e5\n",
    "x213=2.075e4\n",
    "x303=2.386e5\n",
    "###########################\n",
    "x104=-1.254e5\n",
    "x114=7.507e4\n",
    "x124=1.338e4\n",
    "x204=8.735e5\n",
    "x214=-1.657e5\n",
    "x304=-1.694e6\n",
    "###########################\n",
    "x105=0\n",
    "x115=0\n",
    "x125=0\n",
    "x205=0\n",
    "x215=0\n",
    "x305=0\n",
    "###########################\n",
    "x106=-8.898e5\n",
    "x116=6.31e5\n",
    "x126=5.068e4\n",
    "x206=5.981e6\n",
    "x216=-1.415e6\n",
    "x306=-1.128e7\n",
    "###########################\n",
    "x107=8.696e5\n",
    "x117=-6.71e5\n",
    "x127=-3.008e4\n",
    "x207=-5.838e6\n",
    "x217=1.514e6\n",
    "x307=1.089e7"
   ]
  },
  {
   "cell_type": "code",
   "execution_count": 34,
   "metadata": {
    "collapsed": true
   },
   "outputs": [],
   "source": [
    "def F1(theta,phi,psi):\n",
    "    plus=-0.433*((1.0+np.cos(theta)**2)*np.sin(2.0*phi)*np.cos(2.0*psi)+2.0*np.cos(theta)*np.cos(2.0*phi)*np.sin(2.0*psi))\n",
    "    cross=0.433*((1.0+np.cos(theta)**2)*np.sin(2.0*phi)*np.sin(2.0*psi)-2.0*np.cos(theta)*np.cos(2.0*phi)*np.cos(2.0*psi))\n",
    "    return [plus,cross]\n",
    "# Mi is the mass of individual BH, in solar masses. chi_i is the reduced spin of BH.\n",
    "GMsun=1.32754125e26 # cgs unit\n",
    "DKPC=3.086e+21 # cgs unit\n",
    "c=3e10 #cgs\n",
    "def C(M1,M2,D,i,theta,phi,psi):\n",
    "    M=M1+M2\n",
    "    factor=M*15.4787466e-6 #second;\n",
    "    eta=M1*M2/M**2\n",
    "    result=(GMsun*M)**0.83333/(2.0*D*DKPC*2.1433*c**1.5)*\\\n",
    "    (0.208333*eta)**0.5*np.sqrt((1.0+np.cos(i)**2)**2*F1(theta,phi,psi)[0]**2+\\\n",
    "                                4.0*np.cos(i)**2*F1(theta,phi,psi)[1]**2)   \n",
    "    return result\n",
    "Lorentz = lambda x1,x2,x3: 1.0/3.14159*0.5*x3/((x1-x2)**2+(0.5*x3)**2)\n",
    "def gamma(f,M1,M2,chi1,chi2): # the input value is with unit Hz\n",
    "    \n",
    "    M=M1+M2;\n",
    "    eta=M1*M2/M**2;\n",
    "    factor=M*15.4787466e-6 #second;\n",
    "    ft=f*factor # convert the input frequency to a dimensionless one\n",
    "    delta=(M1-M2)/M; # delta is independent with the total mass\n",
    "    chi=(1+delta)*chi1*0.5+(1-delta)*chi2*0.5 #spin\n",
    "    ###############################################\n",
    "    mu01=1-4.455*(1-chi)**0.217+3.521*(1-chi)**0.26 # independent of the total mass\n",
    "    mu02=(1-0.63*(1-chi)**0.3)*0.5\n",
    "    mu03=(1-0.63*(1-chi)**0.3)*(1-chi)**0.45*0.25\n",
    "    mu04=0.3236+0.04894*chi+0.01346*chi**2\n",
    "    ###############################################\n",
    "    f0=np.pi*1e-3\n",
    "    f1=mu01+y101*eta+y111*eta*chi+y121*eta*chi**2+y201*eta**2+y211*eta**2*chi+y301*eta**3; \n",
    "    f2=mu02+y102*eta+y112*eta*chi+y122*eta*chi**2+y202*eta**2+y212*eta**2*chi+y302*eta**3;\n",
    "    sigma=mu03+y103*eta+y113*eta*chi+y123*eta*chi**2+y203*eta**2+y213*eta**2*chi+y303*eta**3;\n",
    "    f3=mu04+y104*eta+y114*eta*chi+y124*eta*chi**2+y204*eta**2+y214*eta**2*chi+y304*eta**3;  #these are indepened with the total mass\n",
    "    ###############################################\n",
    "    alpha2=-323.0/224+451.0*eta/168.0\n",
    "    alpha3=(27.0/8-11.0*eta/6.0)*chi\n",
    "    epsilon1=1.4547*chi-1.8897\n",
    "    epsilon2=-1.8153*chi-1.6557\n",
    "    ################################################    \n",
    "    fp=ft/f1;\n",
    "    v=ft**0.3333    \n",
    "    Wm=(1+alpha2*v**2+alpha3*v**3)/(1+epsilon1*v+epsilon2*v**2)\n",
    "    Wr=Wm*(f2/f1)**(-2.0/3)*(1+epsilon1*v+epsilon2*v**2)/Lorentz(f2,f2,sigma)\n",
    "    if (ft<f1) and (ft>f0):\n",
    "        result=ft**(-7.0/6)*(1+alpha2*v**2+alpha3*v**3);\n",
    "    elif (ft>=f1) and (ft<f2):\n",
    "        result=Wm*f1**(-7.0/6)*fp**(-2.0/3)*(1+epsilon1*v+epsilon2*v**2);\n",
    "    elif ft>=f2 and ft<f3:\n",
    "        result=Wr*f1**(-7.0/6)*Lorentz(ft,f2,sigma)\n",
    "    else: \n",
    "        result=0\n",
    "    return [result,f1/factor,f2/factor,f3/factor]"
   ]
  },
  {
   "cell_type": "code",
   "execution_count": 14,
   "metadata": {
    "collapsed": false
   },
   "outputs": [
    {
     "data": {
      "image/png": "[encoded data removed]",
      "text/plain": [
       "<Figure size 432x288 with 1 Axes>"
      ]
     },
     "metadata": {},
     "output_type": "display_data"
    }
   ],
   "source": [
    "# MM=[3.,5.,8.,10.,15.,20.,]\n",
    "# LS=['k-','r-','b-','k--','r--','b--']\n",
    "# plt.xscale('log')\n",
    "# plt.yscale('log')\n",
    "# plt.xlabel('Frequency (Hz)')\n",
    "# plt.ylabel('Strain')\n",
    "# plt.plot(freq,noise1/np.sqrt(freq),'k-')\n",
    "# #plt.ylim([1e-12,1e-10])\n",
    "# for i in range(0,5):\n",
    "#     Signal=[C(MM[i],MM[i],1e6,0.,0.,0.,0.)*gamma(f,MM[i],MM[i],0.,0.)[0] for f in freq]\n",
    "#     plt.plot(freq,Signal,LS[i])"
   ]
  },
  {
   "cell_type": "code",
   "execution_count": 29,
   "metadata": {
    "collapsed": true
   },
   "outputs": [],
   "source": [
    "M0=1.5\n",
    "chi0=0\n",
    "D0=1e3 # in order of Kpc\n",
    "factor=2.0*M0*15.4787466e-6 #second;\n",
    "def INT(y): \n",
    "        fp=np.exp(y)\n",
    "        result=fp*gamma(fp/factor,M0,M0,chi0,chi0)[0]**2/Sn(fp/factor)\n",
    "        return result*1e-48\n",
    "f0=np.pi*1e-3\n",
    "delta=(M0-M0)/(2.0*M0); # delta is independent with the total mass\n",
    "chi=chi0\n",
    "eta=0.25\n",
    "###############################################\n",
    "mu01=1-4.455*(1-chi)**0.217+3.521*(1-chi)**0.26 # independent of the total mass\n",
    "mu02=(1-0.63*(1-chi)**0.3)*0.5\n",
    "mu03=(1-0.63*(1-chi)**0.3)*(1-chi)**0.45*0.25\n",
    "mu04=0.3236+0.04894*chi+0.01346*chi**2\n",
    "###############################################\n",
    "f0=np.pi*1e-3\n",
    "#f1=mu01+y101*eta+y111*eta*chi+y121*eta*chi**2+y201*eta**2+y211*eta**2*chi+y301*eta**3; \n",
    "#f2=mu02+y102*eta+y112*eta*chi+y122*eta*chi**2+y202*eta**2+y212*eta**2*chi+y302*eta**3;\n",
    "#sigma=mu03+y103*eta+y113*eta*chi+y123*eta*chi**2+y203*eta**2+y213*eta**2*chi+y303*eta**3;\n",
    "f3=mu04+y104*eta+y114*eta*chi+y124*eta*chi**2+y204*eta**2+y214*eta**2*chi+y304*eta**3;  "
   ]
  },
  {
   "cell_type": "code",
   "execution_count": 33,
   "metadata": {
    "collapsed": false
   },
   "outputs": [
    {
     "name": "stderr",
     "output_type": "stream",
     "text": [
      "/usr/local/Cellar/python3/3.6.2/Frameworks/Python.framework/Versions/3.6/lib/python3.6/site-packages/scipy/integrate/quadpack.py:364: IntegrationWarning: The occurrence of roundoff error is detected, which prevents \n",
      "  the requested tolerance from being achieved.  The error may be \n",
      "  underestimated.\n",
      "  warnings.warn(msg, IntegrationWarning)\n"
     ]
    }
   ],
   "source": [
    "ylow=np.log(f0)\n",
    "yhigh=np.log(f3)\n",
    "rhosq=sci.integrate.quad(INT,ylow,yhigh)\n",
    "rhosq=4.0*C(M0,M0,D0,0,0,0,0)**2*rhosq[0]*1e48/factor\n",
    "rho=np.sqrt(rhosq)"
   ]
  },
  {
   "cell_type": "code",
   "execution_count": 35,
   "metadata": {
    "collapsed": false
   },
   "outputs": [
    {
     "data": {
      "text/plain": [
       "8.441608910979059e-20"
      ]
     },
     "execution_count": 35,
     "metadata": {},
     "output_type": "execute_result"
    }
   ],
   "source": [
    "# Y=np.linspace(-5.,-1.)\n",
    "# IN=[INT(y) for y in Y]\n",
    "# plt.plot(Y,IN)\n",
    "C(M0,M0,D0,0,0,0,0)"
   ]
  },
  {
   "cell_type": "code",
   "execution_count": 36,
   "metadata": {
    "collapsed": false
   },
   "outputs": [
    {
     "name": "stdout",
     "output_type": "stream",
     "text": [
      "55360920.9381759\n"
     ]
    }
   ],
   "source": []
  },
  {
   "cell_type": "code",
   "execution_count": 26,
   "metadata": {
    "collapsed": false
   },
   "outputs": [
    {
     "name": "stdout",
     "output_type": "stream",
     "text": [
      "21534.904727578738\n"
     ]
    }
   ],
   "source": []
  },
  {
   "cell_type": "code",
   "execution_count": 27,
   "metadata": {
    "collapsed": false
   },
   "outputs": [
    {
     "data": {
      "text/plain": [
       "[-0.0, -0.866]"
      ]
     },
     "execution_count": 27,
     "metadata": {},
     "output_type": "execute_result"
    }
   ],
   "source": [
    "F1(0,0,0)"
   ]
  },
  {
   "cell_type": "code",
   "execution_count": null,
   "metadata": {
    "collapsed": true
   },
   "outputs": [],
   "source": []
  }
 ],
 "metadata": {
  "kernelspec": {
   "display_name": "Python 3",
   "language": "python",
   "name": "python3"
  },
  "language_info": {
   "codemirror_mode": {
    "name": "ipython",
    "version": 3
   },
   "file_extension": ".py",
   "mimetype": "text/x-python",
   "name": "python",
   "nbconvert_exporter": "python",
   "pygments_lexer": "ipython3",
   "version": "3.6.2"
  }
 },
 "nbformat": 4,
 "nbformat_minor": 1
}
